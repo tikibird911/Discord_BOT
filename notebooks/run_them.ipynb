{
 "cells": [
  {
   "cell_type": "code",
   "execution_count": 1,
   "metadata": {},
   "outputs": [],
   "source": [
    "import sys\n",
    "sys.path.append(\"..\")"
   ]
  },
  {
   "cell_type": "code",
   "execution_count": 2,
   "metadata": {},
   "outputs": [],
   "source": [
    "from main.data_grab import all_data\n",
    "from main.model import train_model"
   ]
  },
  {
   "cell_type": "code",
   "execution_count": 3,
   "metadata": {},
   "outputs": [
    {
     "name": "stdout",
     "output_type": "stream",
     "text": [
      "False\n"
     ]
    },
    {
     "name": "stderr",
     "output_type": "stream",
     "text": [
      "Unknown exception: HTTP 415 Unsupported Media Type\n",
      "Unknown exception: HTTP 415 Unsupported Media Type\n",
      "Unknown exception: HTTP 415 Unsupported Media Type\n",
      "Unknown exception: HTTP 415 Unsupported Media Type\n",
      "Unknown exception: HTTP 415 Unsupported Media Type\n",
      "Unknown exception: HTTP 415 Unsupported Media Type\n",
      "Unknown exception: HTTP 415 Unsupported Media Type\n",
      "Unknown exception: HTTP 415 Unsupported Media Type\n",
      "Unknown exception: HTTP 415 Unsupported Media Type\n",
      "Unknown exception: HTTP 415 Unsupported Media Type\n",
      "Unknown exception: HTTP 415 Unsupported Media Type\n",
      "Unknown exception: HTTP 415 Unsupported Media Type\n",
      "Unknown exception: HTTP 415 Unsupported Media Type\n",
      "Unknown exception: HTTP 415 Unsupported Media Type\n",
      "Unknown exception: HTTP 415 Unsupported Media Type\n",
      "Unknown exception: HTTP 415 Unsupported Media Type\n",
      "Unknown exception: HTTP 415 Unsupported Media Type\n",
      "Unknown exception: HTTP 415 Unsupported Media Type\n",
      "Unknown exception: HTTP 415 Unsupported Media Type\n",
      "Unknown exception: HTTP 415 Unsupported Media Type\n",
      "Unknown exception: HTTP 415 Unsupported Media Type\n"
     ]
    },
    {
     "name": "stdout",
     "output_type": "stream",
     "text": [
      "text_337694725056364544_337694725056364544\n"
     ]
    }
   ],
   "source": [
    "convo, speach_lines = all_data(is_data=False)"
   ]
  },
  {
   "cell_type": "code",
   "execution_count": 4,
   "metadata": {},
   "outputs": [
    {
     "name": "stdout",
     "output_type": "stream",
     "text": [
      "Epoch 1/20\n",
      "956/956 [==============================] - 161s 168ms/step - loss: 1.2253 - accuracy: 0.0393\n",
      "Epoch 2/20\n",
      "956/956 [==============================] - 160s 167ms/step - loss: 0.9700 - accuracy: 0.0558\n",
      "Epoch 3/20\n",
      "956/956 [==============================] - 158s 166ms/step - loss: 0.9032 - accuracy: 0.0608\n",
      "Epoch 4/20\n",
      "956/956 [==============================] - 159s 166ms/step - loss: 0.8476 - accuracy: 0.0660\n",
      "Epoch 5/20\n",
      "956/956 [==============================] - 158s 165ms/step - loss: 0.7939 - accuracy: 0.0715\n",
      "Epoch 6/20\n",
      "956/956 [==============================] - 158s 165ms/step - loss: 0.7240 - accuracy: 0.0792\n",
      "Epoch 7/20\n",
      "956/956 [==============================] - 158s 165ms/step - loss: 0.6598 - accuracy: 0.0867\n",
      "Epoch 8/20\n",
      "956/956 [==============================] - 157s 165ms/step - loss: 0.6043 - accuracy: 0.0935\n",
      "Epoch 9/20\n",
      "956/956 [==============================] - 158s 165ms/step - loss: 0.5559 - accuracy: 0.0993\n",
      "Epoch 10/20\n",
      "956/956 [==============================] - 158s 165ms/step - loss: 0.5126 - accuracy: 0.1049\n",
      "Epoch 11/20\n",
      "956/956 [==============================] - 157s 165ms/step - loss: 0.4741 - accuracy: 0.1101\n",
      "Epoch 12/20\n",
      "956/956 [==============================] - 158s 165ms/step - loss: 0.4387 - accuracy: 0.1155\n",
      "Epoch 13/20\n",
      "956/956 [==============================] - 157s 165ms/step - loss: 0.4069 - accuracy: 0.1205\n",
      "Epoch 14/20\n",
      "956/956 [==============================] - 158s 165ms/step - loss: 0.3791 - accuracy: 0.1252\n",
      "Epoch 15/20\n",
      "956/956 [==============================] - 158s 165ms/step - loss: 0.3551 - accuracy: 0.1297\n",
      "Epoch 16/20\n",
      "956/956 [==============================] - 158s 165ms/step - loss: 0.3338 - accuracy: 0.1337\n",
      "Epoch 17/20\n",
      "956/956 [==============================] - 158s 165ms/step - loss: 0.3153 - accuracy: 0.1375\n",
      "Epoch 18/20\n",
      "956/956 [==============================] - 158s 165ms/step - loss: 0.2992 - accuracy: 0.1406\n",
      "Epoch 19/20\n",
      "956/956 [==============================] - 158s 165ms/step - loss: 0.2853 - accuracy: 0.1435\n",
      "Epoch 20/20\n",
      "956/956 [==============================] - 158s 165ms/step - loss: 0.2741 - accuracy: 0.1460\n"
     ]
    }
   ],
   "source": [
    "model = train_model(convo, speach_lines)"
   ]
  },
  {
   "cell_type": "code",
   "execution_count": 5,
   "metadata": {},
   "outputs": [
    {
     "data": {
      "text/plain": [
       "<tensorflow.python.keras.engine.training.Model at 0x2ce32e3de50>"
      ]
     },
     "execution_count": 5,
     "metadata": {},
     "output_type": "execute_result"
    }
   ],
   "source": [
    "model"
   ]
  },
  {
   "cell_type": "code",
   "execution_count": null,
   "metadata": {},
   "outputs": [],
   "source": []
  }
 ],
 "metadata": {
  "kernelspec": {
   "display_name": "TensorFlow_GPU",
   "language": "python",
   "name": "tf_gpu"
  },
  "language_info": {
   "codemirror_mode": {
    "name": "ipython",
    "version": 3
   },
   "file_extension": ".py",
   "mimetype": "text/x-python",
   "name": "python",
   "nbconvert_exporter": "python",
   "pygments_lexer": "ipython3",
   "version": "3.8.3"
  }
 },
 "nbformat": 4,
 "nbformat_minor": 4
}
