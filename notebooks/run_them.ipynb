{
 "cells": [
  {
   "cell_type": "code",
   "execution_count": 1,
   "metadata": {},
   "outputs": [],
   "source": [
    "import sys\n",
    "sys.path.append(\"..\")"
   ]
  },
  {
   "cell_type": "code",
   "execution_count": 2,
   "metadata": {},
   "outputs": [],
   "source": [
    "from main.data_grab import all_data\n",
    "from main.model import train_model, get_token\n",
    "from main.pred import predict"
   ]
  },
  {
   "cell_type": "code",
   "execution_count": 3,
   "metadata": {},
   "outputs": [
    {
     "name": "stdout",
     "output_type": "stream",
     "text": [
      "True\n",
      "text_337694725056364544_337694725056364544\n"
     ]
    }
   ],
   "source": [
    "convo, speach_lines = all_data(is_data=True)"
   ]
  },
  {
   "cell_type": "code",
   "execution_count": 4,
   "metadata": {},
   "outputs": [
    {
     "data": {
      "text/html": [
       "<div>\n",
       "<style scoped>\n",
       "    .dataframe tbody tr th:only-of-type {\n",
       "        vertical-align: middle;\n",
       "    }\n",
       "\n",
       "    .dataframe tbody tr th {\n",
       "        vertical-align: top;\n",
       "    }\n",
       "\n",
       "    .dataframe thead th {\n",
       "        text-align: right;\n",
       "    }\n",
       "</style>\n",
       "<table border=\"1\" class=\"dataframe\">\n",
       "  <thead>\n",
       "    <tr style=\"text-align: right;\">\n",
       "      <th></th>\n",
       "      <th>name1</th>\n",
       "      <th>name2</th>\n",
       "      <th>conversation</th>\n",
       "    </tr>\n",
       "  </thead>\n",
       "  <tbody>\n",
       "    <tr>\n",
       "      <th>0</th>\n",
       "      <td>Banned#6932</td>\n",
       "      <td>- ̗̀Olivia ̖́- Dovescape Lich#0444</td>\n",
       "      <td>47548L-&gt;47549L-&gt;47550L-&gt;47551L-&gt;47544L-&gt;47545L</td>\n",
       "    </tr>\n",
       "    <tr>\n",
       "      <th>1</th>\n",
       "      <td>Morphine#1683</td>\n",
       "      <td>- ̗̀Olivia ̖́- Dovescape Lich#0444</td>\n",
       "      <td>47546L-&gt;47547L-&gt;47540L-&gt;47536L</td>\n",
       "    </tr>\n",
       "    <tr>\n",
       "      <th>2</th>\n",
       "      <td>- ̗̀Olivia ̖́- Dovescape Lich#0444</td>\n",
       "      <td>DavidTheBee#5943</td>\n",
       "      <td>47537L-&gt;47538L</td>\n",
       "    </tr>\n",
       "    <tr>\n",
       "      <th>3</th>\n",
       "      <td>- ̗̀Olivia ̖́- Dovescape Lich#0444</td>\n",
       "      <td>DavidTheBee#5943</td>\n",
       "      <td>47537L-&gt;47538L</td>\n",
       "    </tr>\n",
       "    <tr>\n",
       "      <th>4</th>\n",
       "      <td>General Kanabis#8886</td>\n",
       "      <td>- ̗̀Olivia ̖́- Dovescape Lich#0444</td>\n",
       "      <td>47530L-&gt;47527L</td>\n",
       "    </tr>\n",
       "  </tbody>\n",
       "</table>\n",
       "</div>"
      ],
      "text/plain": [
       "                                name1                               name2  \\\n",
       "0                         Banned#6932  - ̗̀Olivia ̖́- Dovescape Lich#0444   \n",
       "1                       Morphine#1683  - ̗̀Olivia ̖́- Dovescape Lich#0444   \n",
       "2  - ̗̀Olivia ̖́- Dovescape Lich#0444                    DavidTheBee#5943   \n",
       "3  - ̗̀Olivia ̖́- Dovescape Lich#0444                    DavidTheBee#5943   \n",
       "4                General Kanabis#8886  - ̗̀Olivia ̖́- Dovescape Lich#0444   \n",
       "\n",
       "                                     conversation  \n",
       "0  47548L->47549L->47550L->47551L->47544L->47545L  \n",
       "1                  47546L->47547L->47540L->47536L  \n",
       "2                                  47537L->47538L  \n",
       "3                                  47537L->47538L  \n",
       "4                                  47530L->47527L  "
      ]
     },
     "execution_count": 4,
     "metadata": {},
     "output_type": "execute_result"
    }
   ],
   "source": [
    "convo.head()"
   ]
  },
  {
   "cell_type": "code",
   "execution_count": 5,
   "metadata": {},
   "outputs": [
    {
     "name": "stdout",
     "output_type": "stream",
     "text": [
      "Train for 963 steps\n",
      "Epoch 1/20\n",
      "963/963 [==============================] - 876s 910ms/step - loss: 1.2707 - accuracy: 0.0343\n",
      "Epoch 2/20\n",
      "963/963 [==============================] - 1153s 1s/step - loss: 0.9953 - accuracy: 0.0535\n",
      "Epoch 3/20\n",
      "963/963 [==============================] - 1155s 1s/step - loss: 0.9186 - accuracy: 0.0591\n",
      "Epoch 4/20\n",
      "963/963 [==============================] - 1150s 1s/step - loss: 0.8524 - accuracy: 0.0649\n",
      "Epoch 5/20\n",
      "963/963 [==============================] - 1148s 1s/step - loss: 0.7889 - accuracy: 0.0708\n",
      "Epoch 6/20\n",
      "963/963 [==============================] - 1150s 1s/step - loss: 0.7257 - accuracy: 0.0771\n",
      "Epoch 7/20\n",
      "963/963 [==============================] - 1149s 1s/step - loss: 0.6732 - accuracy: 0.0828\n",
      "Epoch 8/20\n",
      "963/963 [==============================] - 1149s 1s/step - loss: 0.6316 - accuracy: 0.0875\n",
      "Epoch 9/20\n",
      "963/963 [==============================] - 1149s 1s/step - loss: 0.5958 - accuracy: 0.0917\n",
      "Epoch 10/20\n",
      "963/963 [==============================] - 1152s 1s/step - loss: 0.5650 - accuracy: 0.0953\n",
      "Epoch 11/20\n",
      "963/963 [==============================] - 1149s 1s/step - loss: 0.5386 - accuracy: 0.0986\n",
      "Epoch 12/20\n",
      "963/963 [==============================] - 1210s 1s/step - loss: 0.5147 - accuracy: 0.1017\n",
      "Epoch 13/20\n",
      "963/963 [==============================] - 1257s 1s/step - loss: 0.4936 - accuracy: 0.1045\n",
      "Epoch 14/20\n",
      "963/963 [==============================] - 1226s 1s/step - loss: 0.4749 - accuracy: 0.1070\n",
      "Epoch 15/20\n",
      "963/963 [==============================] - 1248s 1s/step - loss: 0.4575 - accuracy: 0.1096\n",
      "Epoch 16/20\n",
      "963/963 [==============================] - 1252s 1s/step - loss: 0.4417 - accuracy: 0.1119\n",
      "Epoch 17/20\n",
      "963/963 [==============================] - 1207s 1s/step - loss: 0.4276 - accuracy: 0.1140\n",
      "Epoch 18/20\n",
      "963/963 [==============================] - 1172s 1s/step - loss: 0.4147 - accuracy: 0.1161\n",
      "Epoch 19/20\n",
      "963/963 [==============================] - 1207s 1s/step - loss: 0.4022 - accuracy: 0.1181\n",
      "Epoch 20/20\n",
      "963/963 [==============================] - 1314s 1s/step - loss: 0.3909 - accuracy: 0.1200\n"
     ]
    }
   ],
   "source": [
    "# build model and vocab size\n",
    "model2 = train_model(convo, speach_lines, load_model=False)"
   ]
  },
  {
   "cell_type": "code",
   "execution_count": 6,
   "metadata": {},
   "outputs": [],
   "source": [
    "# load model\n",
    "model1 = train_model(convo, speach_lines, load_model=True)"
   ]
  },
  {
   "cell_type": "code",
   "execution_count": 11,
   "metadata": {},
   "outputs": [
    {
     "name": "stdout",
     "output_type": "stream",
     "text": [
      "Input: aoe\n",
      "Output: wat\n",
      "\n",
      "Input: wat\n",
      "Output: lol\n",
      "\n",
      "Input: lol\n",
      "Output: https www . youtube . com watch ? v kcdh dyuud\n",
      "\n",
      "Input: https www . youtube . com watch ? v kcdh dyuud\n",
      "Output: impersonate\n",
      "\n",
      "Input: impersonate\n",
      "Output: https i . imgur . com wnxywbg . gifv\n",
      "\n"
     ]
    }
   ],
   "source": [
    "# feed the model with its previous output\n",
    "sentence = 'aoe'\n",
    "for _ in range(5):\n",
    "    sentence = predict(sentence, model1)\n",
    "    print('')"
   ]
  },
  {
   "cell_type": "code",
   "execution_count": null,
   "metadata": {},
   "outputs": [],
   "source": [
    "# feed the model with its previous output\n",
    "sentence = 'it looks like its trying to make youtube links'\n",
    "for _ in range(5):\n",
    "    sentence = predict(sentence, tokenizer, model1)\n",
    "    print('')"
   ]
  }
 ],
 "metadata": {
  "kernelspec": {
   "display_name": "TF_GPU",
   "language": "python",
   "name": "myenv"
  },
  "language_info": {
   "codemirror_mode": {
    "name": "ipython",
    "version": 3
   },
   "file_extension": ".py",
   "mimetype": "text/x-python",
   "name": "python",
   "nbconvert_exporter": "python",
   "pygments_lexer": "ipython3",
   "version": "3.7.6"
  }
 },
 "nbformat": 4,
 "nbformat_minor": 4
}
